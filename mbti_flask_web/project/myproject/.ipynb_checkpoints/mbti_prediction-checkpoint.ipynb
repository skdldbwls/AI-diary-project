{
 "cells": [
  {
   "cell_type": "code",
   "execution_count": 1,
   "metadata": {},
   "outputs": [],
   "source": [
    "# import module\n",
    "import io\n",
    "import pandas as pd\n",
    "\n",
    "import pandas as pd\n",
    "import numpy as np\n",
    "import matplotlib.pyplot as plt\n",
    "import seaborn as sns\n",
    "from sklearn.model_selection import train_test_split\n",
    "from sklearn.preprocessing import LabelEncoder\n",
    "from keras.preprocessing.text import Tokenizer\n",
    "from keras.models import Model\n",
    "from keras.layers import LSTM, Activation, Dense, Dropout, Input, Embedding\n",
    "from keras.optimizers import RMSprop\n",
    "from keras.preprocessing import sequence\n",
    "from keras.utils import to_categorical\n",
    "from keras.callbacks import EarlyStopping\n",
    "%matplotlib inline\n",
    "\n",
    "np.random.seed(42)"
   ]
  },
  {
   "cell_type": "code",
   "execution_count": 2,
   "metadata": {},
   "outputs": [],
   "source": [
    "from sklearn.feature_extraction.text import TfidfVectorizer\n",
    "from tensorflow.keras.preprocessing.sequence import pad_sequences\n",
    "from tensorflow.keras.preprocessing.text import Tokenizer\n",
    "\n",
    "from sklearn import model_selection\n",
    "from sklearn.naive_bayes import MultinomialNB\n",
    "from sklearn import metrics\n",
    "from sklearn.model_selection import train_test_split\n",
    "from sklearn.metrics import accuracy_score\n",
    "from sklearn.multiclass import OneVsRestClassifier\n",
    "from sklearn.svm import LinearSVC, SVC\n",
    "from sklearn.linear_model import LogisticRegression\n",
    "from sklearn.pipeline import Pipeline"
   ]
  },
  {
   "cell_type": "code",
   "execution_count": 3,
   "metadata": {},
   "outputs": [],
   "source": [
    "data = pd.read_csv(\"mbti_1.csv\")"
   ]
  },
  {
   "cell_type": "code",
   "execution_count": 4,
   "metadata": {},
   "outputs": [],
   "source": [
    "# Split mbti personality into 4 letters and binarize\n",
    "titles = [\"Extraversion (E) - Introversion (I)\",\n",
    "          \"Sensation (S) - INtuition (N)\",\n",
    "          \"Thinking (T) - Feeling (F)\",\n",
    "          \"Judgement (J) - Perception (P)\"\n",
    "         ] \n",
    "b_Pers = {'E':0, 'I':1, 'S':0, 'N':1, 'T':0, 'F':1, 'J':0, 'P':1}\n",
    "b_Pers_list = [{0:'E', 1:'I'}, {0:'S', 1:'N'}, {0:'T', 1:'F'}, {0:'J', 1:'P'}]\n",
    "\n",
    "#transform mbti to binary vector\n",
    "def translate_personality(personality):\n",
    "    return [b_Pers[l] for l in personality]\n",
    "\n",
    "#transform binary vector to mbti personality\n",
    "def translate_back(personality):\n",
    "    s = \"\"\n",
    "    for i, l in enumerate(personality):\n",
    "        s += b_Pers_list[i][l]\n",
    "    return s\n",
    "\n",
    "list_personality_bin = np.array([translate_personality(p) for p in data.type])"
   ]
  },
  {
   "cell_type": "code",
   "execution_count": 5,
   "metadata": {},
   "outputs": [
    {
     "name": "stdout",
     "output_type": "stream",
     "text": [
      "Binarize MBTI list: \n",
      "[[1 1 1 0]\n",
      " [0 1 0 1]\n",
      " [1 1 0 1]\n",
      " ...\n",
      " [1 1 0 1]\n",
      " [1 1 1 1]\n",
      " [1 1 1 1]]\n"
     ]
    }
   ],
   "source": [
    "#print(\"Binarize MBTI list: \\n%s\" % list_personality_bin)"
   ]
  },
  {
   "cell_type": "code",
   "execution_count": 6,
   "metadata": {},
   "outputs": [],
   "source": [
    "data['E-I'] = list_personality_bin[:,0]\n",
    "data['S-N'] = list_personality_bin[:,1]\n",
    "data['T-F'] = list_personality_bin[:,2]\n",
    "data['J-P'] = list_personality_bin[:,3]"
   ]
  },
  {
   "cell_type": "code",
   "execution_count": 7,
   "metadata": {},
   "outputs": [
    {
     "data": {
      "text/html": [
       "<div>\n",
       "<style scoped>\n",
       "    .dataframe tbody tr th:only-of-type {\n",
       "        vertical-align: middle;\n",
       "    }\n",
       "\n",
       "    .dataframe tbody tr th {\n",
       "        vertical-align: top;\n",
       "    }\n",
       "\n",
       "    .dataframe thead th {\n",
       "        text-align: right;\n",
       "    }\n",
       "</style>\n",
       "<table border=\"1\" class=\"dataframe\">\n",
       "  <thead>\n",
       "    <tr style=\"text-align: right;\">\n",
       "      <th></th>\n",
       "      <th>type</th>\n",
       "      <th>posts</th>\n",
       "      <th>E-I</th>\n",
       "      <th>S-N</th>\n",
       "      <th>T-F</th>\n",
       "      <th>J-P</th>\n",
       "    </tr>\n",
       "  </thead>\n",
       "  <tbody>\n",
       "    <tr>\n",
       "      <th>0</th>\n",
       "      <td>INFJ</td>\n",
       "      <td>'http://www.youtube.com/watch?v=qsXHcwe3krw|||...</td>\n",
       "      <td>1</td>\n",
       "      <td>1</td>\n",
       "      <td>1</td>\n",
       "      <td>0</td>\n",
       "    </tr>\n",
       "    <tr>\n",
       "      <th>1</th>\n",
       "      <td>ENTP</td>\n",
       "      <td>'I'm finding the lack of me in these posts ver...</td>\n",
       "      <td>0</td>\n",
       "      <td>1</td>\n",
       "      <td>0</td>\n",
       "      <td>1</td>\n",
       "    </tr>\n",
       "    <tr>\n",
       "      <th>2</th>\n",
       "      <td>INTP</td>\n",
       "      <td>'Good one  _____   https://www.youtube.com/wat...</td>\n",
       "      <td>1</td>\n",
       "      <td>1</td>\n",
       "      <td>0</td>\n",
       "      <td>1</td>\n",
       "    </tr>\n",
       "    <tr>\n",
       "      <th>3</th>\n",
       "      <td>INTJ</td>\n",
       "      <td>'Dear INTP,   I enjoyed our conversation the o...</td>\n",
       "      <td>1</td>\n",
       "      <td>1</td>\n",
       "      <td>0</td>\n",
       "      <td>0</td>\n",
       "    </tr>\n",
       "    <tr>\n",
       "      <th>4</th>\n",
       "      <td>ENTJ</td>\n",
       "      <td>'You're fired.|||That's another silly misconce...</td>\n",
       "      <td>0</td>\n",
       "      <td>1</td>\n",
       "      <td>0</td>\n",
       "      <td>0</td>\n",
       "    </tr>\n",
       "  </tbody>\n",
       "</table>\n",
       "</div>"
      ],
      "text/plain": [
       "   type                                              posts  E-I  S-N  T-F  J-P\n",
       "0  INFJ  'http://www.youtube.com/watch?v=qsXHcwe3krw|||...    1    1    1    0\n",
       "1  ENTP  'I'm finding the lack of me in these posts ver...    0    1    0    1\n",
       "2  INTP  'Good one  _____   https://www.youtube.com/wat...    1    1    0    1\n",
       "3  INTJ  'Dear INTP,   I enjoyed our conversation the o...    1    1    0    0\n",
       "4  ENTJ  'You're fired.|||That's another silly misconce...    0    1    0    0"
      ]
     },
     "execution_count": 7,
     "metadata": {},
     "output_type": "execute_result"
    }
   ],
   "source": [
    "#data.head()"
   ]
  },
  {
   "cell_type": "markdown",
   "metadata": {},
   "source": [
    "## 데이터전처리"
   ]
  },
  {
   "cell_type": "code",
   "execution_count": 8,
   "metadata": {},
   "outputs": [],
   "source": [
    "from sklearn.preprocessing import LabelBinarizer\n",
    "import re\n",
    "import string"
   ]
  },
  {
   "cell_type": "code",
   "execution_count": 9,
   "metadata": {},
   "outputs": [],
   "source": [
    "contraction_patterns = [ (r'won\\'t', 'will not'), (r'can\\'t', 'cannot'), (r'I\\'m', 'I am'),(r'i\\'m', 'i am'), (r'ain\\'t', 'is not'), (r'(\\w+)\\'ll', '\\g<1> will'), (r'(\\w+)n\\'t', '\\g<1> not'),\n",
    "                         (r'(\\w+)\\'ve', '\\g<1> have'), (r'(\\w+)\\'s', '\\g<1> is'), (r'(\\w+)\\'re', '\\g<1> are'), (r'(\\w+)\\'d', '\\g<1> would'), (r'&', 'and'), (r'dammit', 'damn it'), (r'dont', 'do not'), (r'wont', 'will not') ]\n",
    "def replace(text):\n",
    "    patterns = [(re.compile(regex), repl) for (regex, repl) in contraction_patterns]\n",
    "    for (pattern, repl) in patterns:\n",
    "        (text, count) = re.subn(pattern, repl, text)\n",
    "    return text\n",
    "\n",
    "text_replace = pd.DataFrame(columns=['TextBefore', 'TextAfter'])\n",
    "text_replace['TextBefore'] = data['posts'].copy()"
   ]
  },
  {
   "cell_type": "code",
   "execution_count": 10,
   "metadata": {},
   "outputs": [],
   "source": [
    "for index, row in text_replace.iterrows():\n",
    "    row['TextAfter'] = replace(row['TextBefore'])"
   ]
  },
  {
   "cell_type": "code",
   "execution_count": 12,
   "metadata": {},
   "outputs": [
    {
     "name": "stdout",
     "output_type": "stream",
     "text": [
      "0    'http://www.youtube.com/watch?v=qsXHcwe3krw|||...\n",
      "1    'I'm finding the lack of me in these posts ver...\n",
      "2    'Good one  _____   https://www.youtube.com/wat...\n",
      "3    'Dear INTP,   I enjoyed our conversation the o...\n",
      "4    'You're fired.|||That's another silly misconce...\n",
      "Name: TextBefore, dtype: object \n",
      "->\n",
      " 0    'http://www.youtube.com/watch?v=qsXHcwe3krw|||...\n",
      "1    'I am finding the lack of me in these posts ve...\n",
      "2    'Good one  _____   https://www.youtube.com/wat...\n",
      "3    'Dear INTP,   I enjoyed our conversation the o...\n",
      "4    'You are fired.|||That is another silly miscon...\n",
      "Name: TextAfter, dtype: object\n"
     ]
    }
   ],
   "source": [
    "#print(text_replace['TextBefore'][:5],'\\n->\\n', text_replace['TextAfter'][:5])"
   ]
  },
  {
   "cell_type": "markdown",
   "metadata": {},
   "source": [
    "## 특수문자 제거"
   ]
  },
  {
   "cell_type": "code",
   "execution_count": 13,
   "metadata": {},
   "outputs": [],
   "source": [
    "def cleaner(post):\n",
    "    # 소문자 변환\n",
    "    post = post.lower() \n",
    "    \n",
    "    # '|||' 제거\n",
    "    post = post.replace('|||', \"\") \n",
    "\n",
    "    # URL, 링크 등 특수문자 제거\n",
    "    post = re.sub(r'''(?i)\\b((?:https?://|www\\d{0,3}[.]|[a-z0-9.\\-]+[.][a-z]{2,4}/)(?:[^\\s()<>]+|\\(([^\\s()<>]+|(\\([^\\s()<>]+\\)))*\\))+(?:\\(([^\\s()<>]+|(\\([^\\s()<>]+\\)))*\\)|[^\\s`!()\\[\\]{};:'\".,<>?«»“”‘’]))''', '', post, flags=re.MULTILINE) \n",
    "\n",
    "    # 구두점 제거\n",
    "    post = post.translate(str.maketrans('', '', string.punctuation))\n",
    "\n",
    "    # 공백 제거\n",
    "    post = re.sub( '\\s+', ' ', post ).strip()\n",
    "\n",
    "    # MBTI 제거\n",
    "    post = re.sub('infj|entp|intp|intj|entj|enfj|infp|enfp|isfp|istp|isfj|istj|estp|esfp|estj|esfj',\"\", post)\n",
    "\n",
    "    # 길이가 짧은 단어 제거\n",
    "    shortword = re.compile(r'\\W*\\b\\w{1,2}\\b')\n",
    "    post = shortword.sub('', post)\n",
    "    \n",
    "    return post"
   ]
  },
  {
   "cell_type": "code",
   "execution_count": 14,
   "metadata": {},
   "outputs": [],
   "source": [
    "posts = text_replace.TextAfter.tolist()\n",
    "posts = [cleaner(post) for post in posts]\n",
    "data['clean_post'] = posts"
   ]
  },
  {
   "cell_type": "code",
   "execution_count": 15,
   "metadata": {},
   "outputs": [
    {
     "name": "stdout",
     "output_type": "stream",
     "text": [
      "0    'http://www.youtube.com/watch?v=qsXHcwe3krw|||...\n",
      "1    'I am finding the lack of me in these posts ve...\n",
      "2    'Good one  _____   https://www.youtube.com/wat...\n",
      "3    'Dear INTP,   I enjoyed our conversation the o...\n",
      "4    'You are fired.|||That is another silly miscon...\n",
      "Name: TextAfter, dtype: object \n",
      "->\n",
      " 0    and  moments sportscenter not top ten plays pr...\n",
      "1     finding the lack these posts very alarmingsex...\n",
      "2    good one course which say know that blessing a...\n",
      "3    dear enjoyed our conversation the other day es...\n",
      "4    you are firedthat another silly misconception ...\n",
      "Name: clean_post, dtype: object\n"
     ]
    }
   ],
   "source": [
    "#print(text_replace['TextAfter'][:5],'\\n->\\n', data['clean_post'][:5])"
   ]
  },
  {
   "cell_type": "markdown",
   "metadata": {},
   "source": [
    "## remove stopwords"
   ]
  },
  {
   "cell_type": "code",
   "execution_count": 16,
   "metadata": {},
   "outputs": [
    {
     "name": "stderr",
     "output_type": "stream",
     "text": [
      "[nltk_data] Downloading package stopwords to\n",
      "[nltk_data]     C:\\Users\\skdld\\AppData\\Roaming\\nltk_data...\n",
      "[nltk_data]   Package stopwords is already up-to-date!\n",
      "[nltk_data] Downloading package wordnet to\n",
      "[nltk_data]     C:\\Users\\skdld\\AppData\\Roaming\\nltk_data...\n",
      "[nltk_data]   Package wordnet is already up-to-date!\n"
     ]
    }
   ],
   "source": [
    "# Remove Stopwords\n",
    "import nltk\n",
    "nltk.download('stopwords')\n",
    "nltk.download('wordnet')\n",
    "\n",
    "from nltk.corpus import stopwords\n",
    "stoplist = stopwords.words('english')\n",
    "\n",
    "from nltk.stem import WordNetLemmatizer, PorterStemmer\n",
    "\n",
    "n=WordNetLemmatizer()\n",
    "s = PorterStemmer()\n",
    "\n",
    "def tokenize(text):\n",
    "    finalTokens = []\n",
    "    tokens = nltk.word_tokenize(text)\n",
    "    for w in tokens:\n",
    "        if (w not in stoplist):\n",
    "            finalTokens.append(w)\n",
    "    lem  = [n.lemmatize(w) for w in finalTokens]\n",
    "    stem = [s.stem(w) for w in lem]\n",
    "    text = \" \".join(stem)\n",
    "\n",
    "    return text"
   ]
  },
  {
   "cell_type": "code",
   "execution_count": 17,
   "metadata": {},
   "outputs": [],
   "source": [
    "text_removeStopwords = pd.DataFrame(columns=['TextBefore', 'TextAfter'])\n",
    "text_removeStopwords['TextBefore'] = data['clean_post'].copy()"
   ]
  },
  {
   "cell_type": "code",
   "execution_count": 18,
   "metadata": {},
   "outputs": [
    {
     "name": "stderr",
     "output_type": "stream",
     "text": [
      "[nltk_data] Downloading package punkt to\n",
      "[nltk_data]     C:\\Users\\skdld\\AppData\\Roaming\\nltk_data...\n",
      "[nltk_data]   Package punkt is already up-to-date!\n"
     ]
    }
   ],
   "source": [
    "nltk.download('punkt')\n",
    "for index, row in text_removeStopwords.iterrows():\n",
    "    row['TextAfter'] = tokenize(row['TextBefore'])\n",
    "\n",
    "data['clean_post'] = text_removeStopwords['TextAfter']"
   ]
  },
  {
   "cell_type": "code",
   "execution_count": 19,
   "metadata": {},
   "outputs": [
    {
     "name": "stdout",
     "output_type": "stream",
     "text": [
      "0    moment sportscent top ten play prankswhat life...\n",
      "1    find lack post alarmingsex bore posit often ex...\n",
      "2    good one cours say know bless cursedo absolut ...\n",
      "3    dear enjoy convers day esoter gab natur univer...\n",
      "4    firedthat anoth silli misconcept approach logi...\n",
      "Name: clean_post, dtype: object \n",
      "->\n",
      " 0    moment sportscent top ten play prankswhat life...\n",
      "1    find lack post alarmingsex bore posit often ex...\n",
      "2    good one cours say know bless cursedo absolut ...\n",
      "3    dear enjoy convers day esoter gab natur univer...\n",
      "4    firedthat anoth silli misconcept approach logi...\n",
      "Name: TextAfter, dtype: object\n"
     ]
    }
   ],
   "source": [
    "#print(data['clean_post'][:5],'\\n->\\n',text_removeStopwords['TextAfter'][:5])"
   ]
  },
  {
   "cell_type": "markdown",
   "metadata": {},
   "source": [
    "## Most frequent mispells -> Correct manually"
   ]
  },
  {
   "cell_type": "code",
   "execution_count": 20,
   "metadata": {},
   "outputs": [],
   "source": [
    "mispell_dict = {'colour': 'color', 'centre': 'center', 'favourite': 'favorite', 'travelling': 'traveling', 'counselling': 'counseling', 'theatre': 'theater', 'cancelled': 'canceled', 'labour': 'labor', 'organisation': 'organization', 'wwii': 'world war 2', 'citicise': 'criticize', 'youtu ': 'youtube ', 'Qoura': 'Quora', 'sallary': 'salary', 'Whta': 'What', 'narcisist': 'narcissist', 'howdo': 'how do', 'whatare': 'what are', 'howcan': 'how can', 'howmuch': 'how much', 'howmany': 'how many', 'whydo': 'why do', 'doI': 'do I', 'theBest': 'the best', 'howdoes': 'how does', 'mastrubation': 'masturbation', 'mastrubate': 'masturbate', \"mastrubating\": 'masturbating', 'pennis': 'penis', 'Etherium': 'Ethereum', 'narcissit': 'narcissist', 'bigdata': 'big data', '2k17': '2017', '2k18': '2018', 'qouta': 'quota', 'exboyfriend': 'ex boyfriend', 'airhostess': 'air hostess', \"whst\": 'what', 'watsapp': 'whatsapp', 'demonitisation': 'demonetization', 'demonitization': 'demonetization', 'demonetisation': 'demonetization', 'pokémon': 'pokemon'}\n",
    "def correct_spelling(x, dic):\n",
    "    for word in dic.keys():\n",
    "        x = x.replace(word, dic[word])\n",
    "    return x"
   ]
  },
  {
   "cell_type": "code",
   "execution_count": 21,
   "metadata": {},
   "outputs": [
    {
     "data": {
      "text/plain": [
       "0    moment sportscent top ten play prankswhat life...\n",
       "1    find lack post alarmingsex bore posit often ex...\n",
       "2    good one cours say know bless cursedo absolut ...\n",
       "3    dear enjoy convers day esoter gab natur univer...\n",
       "4    firedthat anoth silli misconcept approach logi...\n",
       "Name: clean_post, dtype: object"
      ]
     },
     "execution_count": 21,
     "metadata": {},
     "output_type": "execute_result"
    }
   ],
   "source": [
    "data['clean_post'] = data['clean_post'].apply(lambda x: correct_spelling(x, mispell_dict))\n",
    "#data['clean_post'][:5]"
   ]
  },
  {
   "cell_type": "markdown",
   "metadata": {},
   "source": [
    "## Train/ Test/ Validation data Split\n",
    "계층적으로 분리"
   ]
  },
  {
   "cell_type": "code",
   "execution_count": 40,
   "metadata": {},
   "outputs": [],
   "source": [
    "from sklearn.model_selection import StratifiedShuffleSplit\n",
    "\n",
    "split = StratifiedShuffleSplit(n_splits=1, test_size=0.2, random_state=42)\n",
    "for train_index, test_index in split.split(data, data[['type']]):\n",
    "    train = data.loc[train_index]\n",
    "    test = data.loc[test_index]"
   ]
  },
  {
   "cell_type": "code",
   "execution_count": 42,
   "metadata": {
    "scrolled": true
   },
   "outputs": [
    {
     "data": {
      "text/html": [
       "<div>\n",
       "<style scoped>\n",
       "    .dataframe tbody tr th:only-of-type {\n",
       "        vertical-align: middle;\n",
       "    }\n",
       "\n",
       "    .dataframe tbody tr th {\n",
       "        vertical-align: top;\n",
       "    }\n",
       "\n",
       "    .dataframe thead th {\n",
       "        text-align: right;\n",
       "    }\n",
       "</style>\n",
       "<table border=\"1\" class=\"dataframe\">\n",
       "  <thead>\n",
       "    <tr style=\"text-align: right;\">\n",
       "      <th></th>\n",
       "      <th>type</th>\n",
       "      <th>posts</th>\n",
       "      <th>E-I</th>\n",
       "      <th>S-N</th>\n",
       "      <th>T-F</th>\n",
       "      <th>J-P</th>\n",
       "      <th>clean_post</th>\n",
       "    </tr>\n",
       "  </thead>\n",
       "  <tbody>\n",
       "    <tr>\n",
       "      <th>1228</th>\n",
       "      <td>INFP</td>\n",
       "      <td>'We are mandarin speakers.  He receive educati...</td>\n",
       "      <td>1</td>\n",
       "      <td>1</td>\n",
       "      <td>1</td>\n",
       "      <td>1</td>\n",
       "      <td>mandarin speaker receiv educ canada sinc 13tha...</td>\n",
       "    </tr>\n",
       "    <tr>\n",
       "      <th>1290</th>\n",
       "      <td>ISTP</td>\n",
       "      <td>'Nope.  Not now, not ever.  I'm too busy with ...</td>\n",
       "      <td>1</td>\n",
       "      <td>0</td>\n",
       "      <td>0</td>\n",
       "      <td>1</td>\n",
       "      <td>nope ever busi work caus adrenalinerush activ ...</td>\n",
       "    </tr>\n",
       "  </tbody>\n",
       "</table>\n",
       "</div>"
      ],
      "text/plain": [
       "      type                                              posts  E-I  S-N  T-F  \\\n",
       "1228  INFP  'We are mandarin speakers.  He receive educati...    1    1    1   \n",
       "1290  ISTP  'Nope.  Not now, not ever.  I'm too busy with ...    1    0    0   \n",
       "\n",
       "      J-P                                         clean_post  \n",
       "1228    1  mandarin speaker receiv educ canada sinc 13tha...  \n",
       "1290    1  nope ever busi work caus adrenalinerush activ ...  "
      ]
     },
     "execution_count": 42,
     "metadata": {},
     "output_type": "execute_result"
    }
   ],
   "source": [
    "train.head(2)"
   ]
  },
  {
   "cell_type": "code",
   "execution_count": 43,
   "metadata": {},
   "outputs": [
    {
     "data": {
      "text/html": [
       "<div>\n",
       "<style scoped>\n",
       "    .dataframe tbody tr th:only-of-type {\n",
       "        vertical-align: middle;\n",
       "    }\n",
       "\n",
       "    .dataframe tbody tr th {\n",
       "        vertical-align: top;\n",
       "    }\n",
       "\n",
       "    .dataframe thead th {\n",
       "        text-align: right;\n",
       "    }\n",
       "</style>\n",
       "<table border=\"1\" class=\"dataframe\">\n",
       "  <thead>\n",
       "    <tr style=\"text-align: right;\">\n",
       "      <th></th>\n",
       "      <th>type</th>\n",
       "      <th>posts</th>\n",
       "      <th>E-I</th>\n",
       "      <th>S-N</th>\n",
       "      <th>T-F</th>\n",
       "      <th>J-P</th>\n",
       "      <th>clean_post</th>\n",
       "    </tr>\n",
       "  </thead>\n",
       "  <tbody>\n",
       "    <tr>\n",
       "      <th>7814</th>\n",
       "      <td>INFP</td>\n",
       "      <td>'Macona , it depends if the big family has ext...</td>\n",
       "      <td>1</td>\n",
       "      <td>1</td>\n",
       "      <td>1</td>\n",
       "      <td>1</td>\n",
       "      <td>macona depend big famili extrovert peopl every...</td>\n",
       "    </tr>\n",
       "    <tr>\n",
       "      <th>4635</th>\n",
       "      <td>ENFJ</td>\n",
       "      <td>'My Brother is an ISTP and oddly enough I get ...</td>\n",
       "      <td>0</td>\n",
       "      <td>1</td>\n",
       "      <td>1</td>\n",
       "      <td>0</td>\n",
       "      <td>brother oddli enough get along better peopl fa...</td>\n",
       "    </tr>\n",
       "  </tbody>\n",
       "</table>\n",
       "</div>"
      ],
      "text/plain": [
       "      type                                              posts  E-I  S-N  T-F  \\\n",
       "7814  INFP  'Macona , it depends if the big family has ext...    1    1    1   \n",
       "4635  ENFJ  'My Brother is an ISTP and oddly enough I get ...    0    1    1   \n",
       "\n",
       "      J-P                                         clean_post  \n",
       "7814    1  macona depend big famili extrovert peopl every...  \n",
       "4635    0  brother oddli enough get along better peopl fa...  "
      ]
     },
     "execution_count": 43,
     "metadata": {},
     "output_type": "execute_result"
    }
   ],
   "source": [
    "test.head(2)"
   ]
  },
  {
   "cell_type": "code",
   "execution_count": 46,
   "metadata": {},
   "outputs": [],
   "source": [
    "list_personality_bin_train = np.array([translate_personality(p) for p in train.type])"
   ]
  },
  {
   "cell_type": "code",
   "execution_count": 47,
   "metadata": {},
   "outputs": [],
   "source": [
    "list_personality_bin_test = np.array([translate_personality(p) for p in test.type])"
   ]
  },
  {
   "cell_type": "code",
   "execution_count": 48,
   "metadata": {},
   "outputs": [],
   "source": [
    "X_train = train.clean_post\n",
    "X_test = test.clean_post\n",
    "y_train = list_personality_bin_train\n",
    "y_test = list_personality_bin_test"
   ]
  },
  {
   "cell_type": "markdown",
   "metadata": {},
   "source": [
    "## 모델 훈련"
   ]
  },
  {
   "cell_type": "code",
   "execution_count": 49,
   "metadata": {},
   "outputs": [],
   "source": [
    "from sklearn.metrics import confusion_matrix\n",
    "from sklearn.metrics import classification_report\n",
    "from sklearn.feature_extraction.text import TfidfVectorizer"
   ]
  },
  {
   "cell_type": "code",
   "execution_count": 50,
   "metadata": {},
   "outputs": [],
   "source": [
    "from sklearn.metrics import accuracy_score\n",
    "from sklearn.metrics import classification_report, f1_score, precision_score, recall_score\n",
    "from sklearn.metrics import roc_curve"
   ]
  },
  {
   "cell_type": "code",
   "execution_count": 51,
   "metadata": {},
   "outputs": [],
   "source": [
    "categories = ['E-I', 'S-N', 'T-F', 'J-P']"
   ]
  },
  {
   "cell_type": "code",
   "execution_count": 52,
   "metadata": {
    "scrolled": true
   },
   "outputs": [
    {
     "name": "stdout",
     "output_type": "stream",
     "text": [
      "... Processing E-I\n",
      "0.7695965417867435 0.7694524495677233\n",
      "f1_score is 0.8697068403908794\n",
      "[[   0  400]\n",
      " [   0 1335]]\n",
      "              precision    recall  f1-score   support\n",
      "\n",
      "           0       0.00      0.00      0.00       400\n",
      "           1       0.77      1.00      0.87      1335\n",
      "\n",
      "    accuracy                           0.77      1735\n",
      "   macro avg       0.38      0.50      0.43      1735\n",
      "weighted avg       0.59      0.77      0.67      1735\n",
      "\n",
      "... Processing S-N\n"
     ]
    },
    {
     "name": "stderr",
     "output_type": "stream",
     "text": [
      "C:\\Users\\skdld\\anaconda3\\lib\\site-packages\\sklearn\\metrics\\_classification.py:1221: UndefinedMetricWarning: Precision and F-score are ill-defined and being set to 0.0 in labels with no predicted samples. Use `zero_division` parameter to control this behavior.\n",
      "  _warn_prf(average, modifier, msg_start, len(result))\n"
     ]
    },
    {
     "name": "stdout",
     "output_type": "stream",
     "text": [
      "0.8619596541786744 0.8622478386167147\n",
      "f1_score is 0.9260290931600124\n",
      "[[   0  239]\n",
      " [   0 1496]]\n",
      "              precision    recall  f1-score   support\n",
      "\n",
      "           0       0.00      0.00      0.00       239\n",
      "           1       0.86      1.00      0.93      1496\n",
      "\n",
      "    accuracy                           0.86      1735\n",
      "   macro avg       0.43      0.50      0.46      1735\n",
      "weighted avg       0.74      0.86      0.80      1735\n",
      "\n",
      "... Processing T-F\n"
     ]
    },
    {
     "name": "stderr",
     "output_type": "stream",
     "text": [
      "C:\\Users\\skdld\\anaconda3\\lib\\site-packages\\sklearn\\metrics\\_classification.py:1221: UndefinedMetricWarning: Precision and F-score are ill-defined and being set to 0.0 in labels with no predicted samples. Use `zero_division` parameter to control this behavior.\n",
      "  _warn_prf(average, modifier, msg_start, len(result))\n"
     ]
    },
    {
     "name": "stdout",
     "output_type": "stream",
     "text": [
      "0.7750720461095101 0.7198847262247838\n",
      "f1_score is 0.7786885245901639\n",
      "[[394 402]\n",
      " [ 84 855]]\n",
      "              precision    recall  f1-score   support\n",
      "\n",
      "           0       0.82      0.49      0.62       796\n",
      "           1       0.68      0.91      0.78       939\n",
      "\n",
      "    accuracy                           0.72      1735\n",
      "   macro avg       0.75      0.70      0.70      1735\n",
      "weighted avg       0.75      0.72      0.71      1735\n",
      "\n",
      "... Processing J-P\n",
      "0.6046109510086455 0.6040345821325649\n",
      "f1_score is 0.7531440891124686\n",
      "[[   0  686]\n",
      " [   1 1048]]\n",
      "              precision    recall  f1-score   support\n",
      "\n",
      "           0       0.00      0.00      0.00       686\n",
      "           1       0.60      1.00      0.75      1049\n",
      "\n",
      "    accuracy                           0.60      1735\n",
      "   macro avg       0.30      0.50      0.38      1735\n",
      "weighted avg       0.37      0.60      0.46      1735\n",
      "\n"
     ]
    },
    {
     "data": {
      "image/png": "[encoded data removed]",
      "text/plain": [
       "<Figure size 1296x1152 with 8 Axes>"
      ]
     },
     "metadata": {
      "needs_background": "light"
     },
     "output_type": "display_data"
    },
    {
     "name": "stdout",
     "output_type": "stream",
     "text": [
      "Average f1-score of LinearSVC :  0.8318921368133811\n"
     ]
    }
   ],
   "source": [
    "import seaborn as sns\n",
    "from matplotlib import gridspec\n",
    "from sklearn.model_selection import StratifiedKFold\n",
    "\n",
    "SVC_pipeline = Pipeline([\n",
    "                ('tfidf', TfidfVectorizer()),\n",
    "                ('clf', OneVsRestClassifier(LinearSVC(C=0.01), n_jobs=1))\n",
    "])\n",
    "\n",
    "total_f1_score = 0\n",
    "\n",
    "fig = plt.figure(figsize=(18, 16)) \n",
    "gs = gridspec.GridSpec(8,8 ) \n",
    "n=0\n",
    "\n",
    "for category in categories:\n",
    "    print('... Processing {}'.format(category))\n",
    "\n",
    "    model = SVC_pipeline.fit(X_train, train[category])\n",
    "    prediction = model.predict(X_test)\n",
    "    scoreTrain = model.score(X_train, train[category])\n",
    "    scoreTest = model.score(X_test, test[category])\n",
    "    print(scoreTrain, scoreTest)\n",
    "\n",
    "    f1_score_ = f1_score(test[category], prediction)\n",
    "    total_f1_score += f1_score_\n",
    "    print('f1_score is {}'.format(f1_score_))\n",
    "\n",
    "    cf_matrix = confusion_matrix(test[category], prediction)\n",
    "    print(cf_matrix)\n",
    "    print(classification_report(test[category], prediction))\n",
    "\n",
    "    # labels = ['True Neg', 'False Pos', 'False Neg', 'True Pos']\n",
    "    # labels = np.asarray(labels).reshape(2,2)\n",
    "    plt.subplot(gs[n*2+0])\n",
    "    sns.heatmap(cf_matrix, annot=True, cmap='Blues')\n",
    "    n+=1\n",
    "    # fpr, tpr, thresholds = roc_curve(train[category], SVC_pipeline.predict_proba(X_train)[:, 1])\n",
    "    # plt.plot(fpr, tpr, '-', label=category)\n",
    "\n",
    "# plt.plot([0, 1], [0, 1], 'k--', label=\"random guess\")\n",
    "# plt.legend(fontsize = 8)\n",
    "# plt.xlabel('False Positive Rate')\n",
    "# plt.ylabel('True Positive Rate')\n",
    "# plt.title('MultinomialNB ROC Curve')\n",
    "# plt.show()\n",
    "\n",
    "plt.tight_layout()  # 창 크기에 맞게 조정\n",
    "plt.show()\n",
    "print('Average f1-score of LinearSVC : ', total_f1_score/4)\n",
    "# print('Average precision of LinearSVC : ', total_precision/4)\n",
    "# print('Average recall of LinearSVC : ', total_recall/4)"
   ]
  },
  {
   "cell_type": "code",
   "execution_count": 53,
   "metadata": {},
   "outputs": [
    {
     "data": {
      "text/plain": [
       "Pipeline(steps=[('tfidf', TfidfVectorizer()),\n",
       "                ('clf',\n",
       "                 OneVsRestClassifier(estimator=LinearSVC(C=0.01), n_jobs=1))])"
      ]
     },
     "execution_count": 53,
     "metadata": {},
     "output_type": "execute_result"
    }
   ],
   "source": [
    "SVC_pipeline"
   ]
  },
  {
   "cell_type": "code",
   "execution_count": 55,
   "metadata": {},
   "outputs": [],
   "source": [
    "import pickle\n",
    "pickle.dump(SVC_pipeline, open('mbti.pkl', 'wb'))"
   ]
  },
  {
   "cell_type": "code",
   "execution_count": null,
   "metadata": {},
   "outputs": [],
   "source": []
  }
 ],
 "metadata": {
  "kernelspec": {
   "display_name": "Python 3",
   "language": "python",
   "name": "python3"
  },
  "language_info": {
   "codemirror_mode": {
    "name": "ipython",
    "version": 3
   },
   "file_extension": ".py",
   "mimetype": "text/x-python",
   "name": "python",
   "nbconvert_exporter": "python",
   "pygments_lexer": "ipython3",
   "version": "3.8.3"
  }
 },
 "nbformat": 4,
 "nbformat_minor": 4
}
